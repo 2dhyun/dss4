{
 "cells": [
  {
   "cell_type": "code",
   "execution_count": 8,
   "metadata": {
    "collapsed": true
   },
   "outputs": [
    {
     "name": "stdout",
     "output_type": "stream",
     "text": [
      "�덈늻由щ떦 �댁젙����몴��28��諛뺢렐���뺢텒 �ㅼ꽭 媛쒖엯 �섑샊��諛쏄퀬 �덈뒗 誘몃Ⅴ쨌K�ㅽ룷痢좎옱�⑥씠 �꾧뎅寃쎌젣�몄뿰�⑺쉶(�꾧꼍���먯꽌 ��湲곌컙��770�ъ뼲�먯쓣 紐④툑�덈떎��臾몄젣����빐 �쒖꽭�뷀샇 �뚮룄 嫄곗쓽 900�듭썝 紐④툑��湲덈갑 �덈떎怨��쒕떎�앷퀬 留먰뻽��\n",
      "����몴���대궇 �ㅼ쟾 �쒖슱 �몄쥌臾명솕�뚭��먯꽌 �대┛ 諛⑹넚湲곗옄�대읇 珥덉껌�좊줎�뚯뿉 �섏� �쒖쟾寃쎈젴 �고븯��留롮� ��린�낆씠 �덈떎�앸㈃���쒖쟾寃쎈젴���쇰젴���ы쉶怨듯뿄���꾪빐 嫄룹뼱���곕뒗 �덉씠 ��3議곗썝�대씪怨��쒕떎. 1�꾩뿉 �ы쉶怨듯뿄�쇰줈 �곕뒗 �덉씠 3議곗썝�대떎. 臾명솕�덉닠留�1議곗썝���섎뒗�� ��留롮씠 踰뚭퀬 �섎뒗 湲곗뾽���뚮줎 �곕쭚��遺덉슦�댁썐 �깃툑����200�듭썝�⑸룄 �댁� �딅굹�앸ŉ �닿컳��留먰뻽��\n",
      "洹몃윭硫댁꽌 �쒖쿇�덊븿 �ш굔���ъ쓣 �뚯뿉��3�쇰쭔��紐뉖갚�듭썝��嫄룻삍�ㅻ뜑�쇄�硫����� �몄썡���ш굔���ъ쓣 ��900�� 1000�듭뿉 媛�퉴��紐④툑��湲덈갑�덈떎怨��쒕떎�앷퀬 �덈떎. �댁뼱 �쒓���쨷 �뺢텒 �뚮룄 ��턿��臾쇱옄 吏�썝�쒕떎怨��덉쓣 ���좎냽�섍쾶 �꾧꼍�⑥씠 �덉쓣 嫄룹뼱���ы쉶怨듯뿄�쒕룞���덈떎�앷퀬 �㏓텤��떎.\n",
      "����몴���쒖껌������뚰넻�섍퀬 �덈떎. �쒓� �꾩슂�����섎（�먮룄 紐�踰���넻�밴낵 �듯솕�섍퀬, �댄�����踰덈룄 �섍퀬, �꾩슂�섎㈃ ��넻�뱀뿉寃��꾪솕�쒕떎�앸ŉ �쒕삉 泥�����섏꽍�ㅺ낵 �대뙎 踰��댁긽 �꾪솕�쒕떎�앷퀬 �대떦 �섑샊 愿�젴, 泥����� �뚰넻���덉뿀�뚯쓣 諛앺삍��\n",
      "洹몃뒗 �쒕챺諛��듭썝��臾몄젣媛��꾨땲�� 誘몄냼湲덉쑖�대씪怨������щ떒��1議곗썝��嫄곕뫊 ���곷룄 �덈떎�앸ŉ �쒖씠 �ъ븞����빐 �꾧꼍�⑥씠 �꾩쟻�쇰줈 二쇨��섍퀬 梨낆엫吏�퀬 臾명솕泥댁쑁怨꾩뿉 �덉쓣 嫄곕뫊 以�寃꺿��대씪怨��덈떎.\n",
      "洹몃뒗 �쒕Ц�붿쑖�깆쓽 �쒕�, �닿굔 諛뺢렐���뺢텒 4��援�젙吏�몴 以��섎굹�앸씪硫��쒕Ц�붿뿉 愿�떖��媛�졇���쒕떎怨��댁꽌, �꾧꼍�⑥씠 �덉쥌踰��섏꽍怨��섏슦由ш� 吏�썝�섎젮怨��쒕떎���대윴 �섍린媛��ㅺ컮�ㅺ퀬 �쒕떎�앷퀬 �꾪뻽��\n",
      "����몴�������щ떒���좎껌 �섎（ 留뚯뿉 �덇�媛��щ떎��鍮꾨궃����빐 �쒖씤�덇����섎（硫��쒕떎�앸ŉ �쒓렇 �꾩뿉 �ъ쟾 怨쇱젙�������볦쑝硫��좎껌�섍퀬 �덇�媛��섎뒗 嫄��섎（硫��쒕떎�앷퀬 �ㅻ챸�덈떎.\n"
     ]
    }
   ],
   "source": [
    "import requests\n",
    "from bs4 import BeautifulSoup\n",
    "\n",
    "def news_body(url):\n",
    "    res = requests.get(url)\n",
    "    content = res.content.decode('euc-kr')\n",
    "    soup = BeautifulSoup(content)\n",
    "   \n",
    "    div = soup.find('div', attrs = {'class' : 'art_body'})\n",
    "    for p in div.find_all('p'):\n",
    "        print p.get_text()\n",
    "    \n",
    "news = 'http://news.khan.co.kr/kh_news/khan_art_view.html?artid=201609281510001&code=910100&nv=stand&utm_source=naver&utm_medium=newsstand&utm_campaign=top1'        \n",
    "news_body(news)"
   ]
  },
  {
   "cell_type": "code",
   "execution_count": 10,
   "metadata": {
    "collapsed": false
   },
   "outputs": [
    {
     "ename": "AttributeError",
     "evalue": "'ResultSet' object has no attribute 'find_all'",
     "output_type": "error",
     "traceback": [
      "\u001b[0;31m---------------------------------------------------------------------------\u001b[0m",
      "\u001b[0;31mAttributeError\u001b[0m                            Traceback (most recent call last)",
      "\u001b[0;32m<ipython-input-10-941e5a8eb9d9>\u001b[0m in \u001b[0;36m<module>\u001b[0;34m()\u001b[0m\n\u001b[1;32m     11\u001b[0m     \u001b[0;32mreturn\u001b[0m \u001b[0mrt\u001b[0m\u001b[0;34m\u001b[0m\u001b[0m\n\u001b[1;32m     12\u001b[0m \u001b[0;34m\u001b[0m\u001b[0m\n\u001b[0;32m---> 13\u001b[0;31m \u001b[0;32mprint\u001b[0m \u001b[0mget_new_title\u001b[0m\u001b[0;34m(\u001b[0m\u001b[0;34m\"http://sports.media.daum.net/sports/column/newsview?newsId=20170203140140650&mccid=62925\"\u001b[0m\u001b[0;34m)\u001b[0m\u001b[0;34m\u001b[0m\u001b[0m\n\u001b[0m",
      "\u001b[0;32m<ipython-input-10-941e5a8eb9d9>\u001b[0m in \u001b[0;36mget_new_title\u001b[0;34m(url)\u001b[0m\n\u001b[1;32m      8\u001b[0m \u001b[0;34m\u001b[0m\u001b[0m\n\u001b[1;32m      9\u001b[0m     \u001b[0mtitle\u001b[0m\u001b[0;34m=\u001b[0m\u001b[0msoup\u001b[0m\u001b[0;34m.\u001b[0m\u001b[0mfind_all\u001b[0m\u001b[0;34m(\u001b[0m\u001b[0;34m'div'\u001b[0m\u001b[0;34m,\u001b[0m\u001b[0mattrs\u001b[0m\u001b[0;34m=\u001b[0m\u001b[0;34m{\u001b[0m\u001b[0;34m'class'\u001b[0m\u001b[0;34m:\u001b[0m\u001b[0;34m\"news_subject\"\u001b[0m\u001b[0;34m}\u001b[0m\u001b[0;34m)\u001b[0m\u001b[0;34m\u001b[0m\u001b[0m\n\u001b[0;32m---> 10\u001b[0;31m     \u001b[0mrt\u001b[0m\u001b[0;34m=\u001b[0m\u001b[0mtitle\u001b[0m\u001b[0;34m.\u001b[0m\u001b[0mfind_all\u001b[0m\u001b[0;34m(\u001b[0m\u001b[0;34m'h3'\u001b[0m\u001b[0;34m,\u001b[0m\u001b[0mattrs\u001b[0m\u001b[0;34m=\u001b[0m\u001b[0;34m{\u001b[0m\u001b[0;34m\"class\"\u001b[0m\u001b[0;34m:\u001b[0m\u001b[0;34m\"tit_subject\"\u001b[0m\u001b[0;34m}\u001b[0m\u001b[0;34m)\u001b[0m\u001b[0;34m\u001b[0m\u001b[0m\n\u001b[0m\u001b[1;32m     11\u001b[0m     \u001b[0;32mreturn\u001b[0m \u001b[0mrt\u001b[0m\u001b[0;34m\u001b[0m\u001b[0m\n\u001b[1;32m     12\u001b[0m \u001b[0;34m\u001b[0m\u001b[0m\n",
      "\u001b[0;31mAttributeError\u001b[0m: 'ResultSet' object has no attribute 'find_all'"
     ]
    }
   ],
   "source": [
    "import requests\n",
    "from bs4 import BeautifulSoup\n",
    "\n",
    "def get_new_title(url):\n",
    "    response=requests.get(url)\n",
    "    content=response.text\n",
    "    soup=BeautifulSoup(content)\n",
    "   \n",
    "    title=soup.find_all('div',attrs={'class':\"news_subject\"})\n",
    "    rt=title.find_all('h3',attrs={\"class\":\"tit_subject\"})\n",
    "    return rt\n",
    "\n",
    "print get_new_title(\"http://sports.media.daum.net/sports/column/newsview?newsId=20170203140140650&mccid=62925\")"
   ]
  },
  {
   "cell_type": "code",
   "execution_count": 10,
   "metadata": {
    "collapsed": false
   },
   "outputs": [
    {
     "name": "stdout",
     "output_type": "stream",
     "text": [
      "8.63\n",
      "6.00\n",
      "8.65\n",
      "8.63\n",
      "6.00\n",
      "8.65\n",
      "8.65\n",
      "6.00\n"
     ]
    }
   ],
   "source": [
    "import requests\n",
    "import re\n",
    "from bs4 import BeautifulSoup\n",
    "\n",
    "url = 'http://movie.naver.com/movie/bi/mi/basic.nhn?code=110333'\n",
    "\n",
    "res = requests.get(url)\n",
    "soup = BeautifulSoup(res.text, \"html5lib\")     #, \"html5lib\")\n",
    "\n",
    "scores = soup.find_all('div', attrs = {'class' : 'star_score'})\n",
    "\n",
    "\n",
    "for score in scores:\n",
    "    result = score.get_text().strip()\n",
    "    result1 = re.search(r'\\w+[\\.]+\\w+',result)\n",
    "    if result1:\n",
    "        print result1.group()"
   ]
  }
 ],
 "metadata": {
  "kernelspec": {
   "display_name": "Python 2",
   "language": "python",
   "name": "python2"
  },
  "language_info": {
   "codemirror_mode": {
    "name": "ipython",
    "version": 2
   },
   "file_extension": ".py",
   "mimetype": "text/x-python",
   "name": "python",
   "nbconvert_exporter": "python",
   "pygments_lexer": "ipython2",
   "version": "2.7.13"
  }
 },
 "nbformat": 4,
 "nbformat_minor": 2
}
